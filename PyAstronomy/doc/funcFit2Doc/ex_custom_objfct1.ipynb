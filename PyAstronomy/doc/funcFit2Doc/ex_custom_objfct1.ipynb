{
 "cells": [
  {
   "cell_type": "markdown",
   "metadata": {},
   "source": [
    "Custom objective function\n",
    "========================"
   ]
  },
  {
   "cell_type": "code",
   "execution_count": 1,
   "metadata": {},
   "outputs": [
    {
     "name": "stdout",
     "output_type": "stream",
     "text": [
      "Names of free parameters:  ['A', 'mu', 'sig', 'off']\n",
      "Optimization terminated successfully.\n",
      "         Current function value: 0.737605\n",
      "         Iterations: 205\n",
      "         Function evaluations: 358\n",
      "Fit result:  [0.64467365 8.75706725 6.815535   1.00264823]\n",
      "------------------- Parameter summary --------------------\n",
      "      A =     0.644674, free: T, restricted: F, related: F\n",
      "     mu =      8.75707, free: T, restricted: F, related: F\n",
      "    sig =      6.81553, free: T, restricted: F, related: F\n",
      "    off =      1.00265, free: T, restricted: F, related: F\n",
      "    lin =            0, free: F, restricted: F, related: F\n",
      "----------------------------------------------------------\n"
     ]
    },
    {
     "data": {
      "image/png": "[encoded data removed]",
      "text/plain": [
       "<Figure size 432x288 with 1 Axes>"
      ]
     },
     "metadata": {
      "needs_background": "light"
     },
     "output_type": "display_data"
    }
   ],
   "source": [
    "from __future__ import print_function, division\n",
    "import numpy as np\n",
    "import matplotlib.pylab as plt\n",
    "from PyAstronomy import funcFit2 as fuf2\n",
    "import scipy.optimize as sco\n",
    "\n",
    "np.random.seed(1234)\n",
    "\n",
    "# Creating a Gaussian with some noise\n",
    "# Choose some parameters...\n",
    "gPar = {\"A\":1.0, \"sig\":10.0, \"mu\":10.0, \"off\":1.0, \"lin\":0.0}\n",
    "# Calculate profile\n",
    "x = np.arange(100) - 50.0\n",
    "y = gPar[\"off\"] + gPar[\"A\"] / np.sqrt(2*np.pi*gPar[\"sig\"]**2) \\\n",
    "    * np.exp(-(x-gPar[\"mu\"])**2/(2*gPar[\"sig\"]**2))\n",
    "# Add some noise...\n",
    "y += np.random.normal(0.0, 0.002, x.size)\n",
    "# ...and save the error bars\n",
    "yerr = np.ones_like(x)*0.002\n",
    "\n",
    "# Create a model object\n",
    "gf = fuf2.GaussFit()\n",
    "# Set guess values for the parameters\n",
    "gf.assignValues({\"A\":2, \"sig\":3.77, \"off\":0.96, \"mu\":9.5})\n",
    "# 'Thaw' those (the order is irrelevant)\n",
    "gf.thaw([\"mu\", \"sig\", \"off\", \"A\"])\n",
    "\n",
    "\n",
    "def myobjf(m, pars, x, y, **kwargs):\n",
    "    \"\"\"\n",
    "    Calculate the absolute distance between model and data points and area of the Gaussian\n",
    "    \n",
    "    Parameters\n",
    "    ----------\n",
    "    m : MBO object\n",
    "        On setting the objective function later via gf.objf = myobjf, this\n",
    "        gives access to the parameter values, evaluate method of the model\n",
    "        and so on.\n",
    "    pars : list of floats\n",
    "        Parameter values for which the objective function is to be evaluated.\n",
    "        A correctly ordered list of free parameter values can be obtained\n",
    "        by using the method freeParamVals(). The order by names can be inspected\n",
    "        using the freeParamNames() method.\n",
    "    x, y : arrays\n",
    "        Here, this is the data. Note that these variables are specified via the\n",
    "        'args' parameter later in the call to the optimization algorithm (fmin).\n",
    "    silent : boolean\n",
    "        Can be used to suppress output (also specified via 'args' parameter).\n",
    "    \"\"\"\n",
    "    model = m.evaluate(x)\n",
    "    r = np.sum(np.abs(model - y))\n",
    "    # Weird dependence on A\n",
    "    r += 0.6*np.abs(m[\"A\"])\n",
    "    # Some informative output\n",
    "    fpv = tuple(zip((m.freeParamNames(), m.freeParamVals())))\n",
    "    return r\n",
    "\n",
    "# Show list of free parameters\n",
    "print(\"Names of free parameters: \", gf.freeParamNames())\n",
    "\n",
    "# Assign objective function. As a result of this assignment,\n",
    "# the parameter values of the model will be set to those handed\n",
    "# to the objective function prior to call\n",
    "gf.addSPLikeObjf(myobjf, \"myobjf\")\n",
    "\n",
    "fr = sco.fmin(gf.myobjf, gf.freeParamVals(), args=(x,y))\n",
    "print(\"Fit result: \", fr)\n",
    "# Set the parameter values to best-fit\n",
    "gf.setFreeParamVals(fr)\n",
    "\n",
    "gf.parameterSummary()\n",
    "# Let us see what we have done...\n",
    "plt.plot(x, y, 'bp')\n",
    "plt.plot(x, gf.evaluate(x), 'r--')\n",
    "plt.show()"
   ]
  }
 ],
 "metadata": {
  "kernelspec": {
   "display_name": "Python 3",
   "language": "python",
   "name": "python3"
  },
  "language_info": {
   "codemirror_mode": {
    "name": "ipython",
    "version": 3
   },
   "file_extension": ".py",
   "mimetype": "text/x-python",
   "name": "python",
   "nbconvert_exporter": "python",
   "pygments_lexer": "ipython3",
   "version": "3.6.10"
  }
 },
 "nbformat": 4,
 "nbformat_minor": 4
}
