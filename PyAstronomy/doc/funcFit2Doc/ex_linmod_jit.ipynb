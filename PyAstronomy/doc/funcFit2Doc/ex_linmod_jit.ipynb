{
 "cells": [
  {
   "cell_type": "markdown",
   "metadata": {},
   "source": [
    "Custom line with additional jitter term\n",
    "========================================"
   ]
  },
  {
   "cell_type": "code",
   "execution_count": 1,
   "metadata": {},
   "outputs": [
    {
     "name": "stdout",
     "output_type": "stream",
     "text": [
      "Optimization terminated successfully.\n",
      "         Current function value: 384.634484\n",
      "         Iterations: 2\n",
      "         Function evaluations: 69\n",
      "-------------------- Parameter summary ----------------------\n",
      "     const =    -0.355683, free: T, restricted: F, related: F\n",
      "     slope =      1.10116, free: T, restricted: F, related: F\n",
      "    jitter =      2.97802, free: T, restricted: F, related: F\n",
      "-------------------------------------------------------------\n"
     ]
    },
    {
     "data": {
      "image/png": "[encoded data removed]",
      "text/plain": [
       "<Figure size 432x288 with 1 Axes>"
      ]
     },
     "metadata": {
      "needs_background": "light"
     },
     "output_type": "display_data"
    }
   ],
   "source": [
    "from __future__ import print_function, division\n",
    "import numpy as np\n",
    "import matplotlib.pylab as plt\n",
    "from PyAstronomy import funcFit2 as fuf2\n",
    "import scipy.optimize as sco\n",
    "\n",
    "np.random.seed(1234)\n",
    "\n",
    "class LinMod(fuf2.MBO):\n",
    "    \"\"\" Linear model with additional jitter \"\"\"\n",
    "\n",
    "    def __init__(self):\n",
    "        fuf2.MBO.__init__(self, pars=[\"const\", \"slope\", \"jitter\"], rootName=\"LinMod\")\n",
    "\n",
    "    def evaluate(self, x):\n",
    "        \"\"\" Evaluate model \"\"\"\n",
    "        return self[\"const\"] + x * self[\"slope\"]\n",
    "\n",
    "    def logL(self, x, y, yerr, **kwargs):\n",
    "        \"\"\" ln(Likelihood) including jitter as additional term \"\"\"\n",
    "        yr = np.sqrt(yerr**2 + self[\"jitter\"]**2)\n",
    "        m = self.evaluate(x)\n",
    "        lnl = -len(x)/2.0*np.log(2.*np.pi) - np.sum(np.log(yr)) - 0.5 * np.sum((m-y)**2/(yr**2))\n",
    "        return lnl\n",
    "\n",
    "# Instantiate model\n",
    "lm = LinMod()\n",
    "# Starting values\n",
    "lm[\"slope\"] = 1.1\n",
    "lm[\"const\"] = -0.5\n",
    "lm[\"jitter\"] = 1\n",
    "\n",
    "# Use -log(L) as SciPy-like objective function and call it logl\n",
    "lm.addSPLikeObjf(\"-logl\", \"logl\")\n",
    "\n",
    "# Get some 'data' and add Gaussian noise with STD 1+3**2=10\n",
    "x = np.arange(150.)\n",
    "y = lm.evaluate(x) + np.random.normal(0,np.sqrt(1+3**2),len(x))\n",
    "# Nominal error has STD 1\n",
    "yerr = np.ones_like(x)\n",
    "\n",
    "lm.thaw([\"slope\", \"const\", \"jitter\"])\n",
    "\n",
    "fr = sco.fmin_powell(lm.logl, x0=lm.freeParamVals(), args=(x,y,yerr))\n",
    "lm.setFreeParamVals(fr)\n",
    "\n",
    "lm.parameterSummary()\n",
    "\n",
    "plt.errorbar(x, y, yerr=yerr, fmt='b+')\n",
    "plt.plot(x, lm.evaluate(x), 'r--')\n",
    "plt.show()"
   ]
  }
 ],
 "metadata": {
  "kernelspec": {
   "display_name": "Python 3",
   "language": "python",
   "name": "python3"
  },
  "language_info": {
   "codemirror_mode": {
    "name": "ipython",
    "version": 3
   },
   "file_extension": ".py",
   "mimetype": "text/x-python",
   "name": "python",
   "nbconvert_exporter": "python",
   "pygments_lexer": "ipython3",
   "version": "3.6.10"
  }
 },
 "nbformat": 4,
 "nbformat_minor": 4
}
