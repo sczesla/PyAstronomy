{
 "cells": [
  {
   "cell_type": "markdown",
   "metadata": {},
   "source": [
    "Gaussian fit and parameter handling\n",
    "==================================="
   ]
  },
  {
   "cell_type": "code",
   "execution_count": 1,
   "metadata": {},
   "outputs": [
    {
     "data": {
      "image/png": "[encoded data removed]",
      "text/plain": [
       "<Figure size 432x288 with 1 Axes>"
      ]
     },
     "metadata": {
      "needs_background": "light"
     },
     "output_type": "display_data"
    }
   ],
   "source": [
    "from __future__ import print_function, division\n",
    "# Import numpy and matplotlib\n",
    "from numpy import arange, sqrt, exp, pi, random, ones_like\n",
    "import matplotlib.pylab as plt\n",
    "import scipy.optimize as sco\n",
    "# ... and now the funcFit2 package\n",
    "from PyAstronomy import funcFit2 as fuf2\n",
    "\n",
    "# For reproducability\n",
    "random.seed(1234)\n",
    "\n",
    "# Create some mock data\n",
    "# Choose parameters...\n",
    "gPar = {\"A\":-5.0, \"sig\":10.0, \"mu\":10.0, \"off\":1.0, \"lin\":0.0}\n",
    "# ...and calculate profile...\n",
    "x = arange(100) - 50.0\n",
    "y = gPar[\"off\"] + gPar[\"A\"] / sqrt(2*pi*gPar[\"sig\"]**2) \\\n",
    "    * exp(-(x-gPar[\"mu\"])**2/(2*gPar[\"sig\"]**2))\n",
    "# ...add some noise...\n",
    "y += random.normal(0.0, 0.01, x.size)\n",
    "# ...and save the error bars\n",
    "yerr = ones_like(x)*0.01\n",
    "\n",
    "plt.errorbar(x, y, yerr=yerr, fmt='b+')\n",
    "plt.show()"
   ]
  },
  {
   "cell_type": "markdown",
   "metadata": {},
   "source": [
    "Fitting and parameter management\n",
    "---------------------------------------------------------------"
   ]
  },
  {
   "cell_type": "code",
   "execution_count": 2,
   "metadata": {},
   "outputs": [
    {
     "name": "stdout",
     "output_type": "stream",
     "text": [
      "List of available parameters:  ['A', 'mu', 'sig', 'off', 'lin']\n",
      "\n",
      "\n",
      "Parameters and guess values: \n",
      "  A   :  -10.0\n",
      "  sig :  15.77\n",
      "  off :  0.96\n",
      "  mu  :  7.5\n",
      "\n",
      "------------------- Parameter summary --------------------\n",
      "      A =          -10, free: F, restricted: F, related: F\n",
      "     mu =          7.5, free: F, restricted: F, related: F\n",
      "    sig =        15.77, free: F, restricted: F, related: F\n",
      "    off =         0.96, free: F, restricted: F, related: F\n",
      "    lin =            0, free: F, restricted: F, related: F\n",
      "----------------------------------------------------------\n",
      "\n",
      "Parameter name/value dictionary:  OrderedDict([('A', -10.0), ('mu', 7.5), ('sig', 15.77), ('off', 0.96), ('lin', 0.0)])\n",
      "Names and values of FREE parameters:  {'A': -10.0, 'mu': 7.5, 'sig': 15.77, 'off': 0.96}\n",
      "Names and values of FROZEN parameters:  {'lin': 0.0}\n",
      "\n",
      "Optimization terminated successfully.\n",
      "         Current function value: 98.642163\n",
      "         Iterations: 154\n",
      "         Function evaluations: 261\n",
      "\n",
      "Fit results:  (array([-5.02400025,  9.88993313, 10.0142805 ,  1.000591  ]), 98.64216303710529, 154, 261, 0)\n",
      "Optimization terminated successfully.\n",
      "         Current function value: 98.642163\n",
      "         Iterations: 89\n",
      "         Function evaluations: 147\n",
      "------------------- Parameter summary --------------------\n",
      "      A =       -5.024, free: T, restricted: F, related: F\n",
      "     mu =      9.88993, free: T, restricted: F, related: F\n",
      "    sig =      10.0143, free: T, restricted: F, related: F\n",
      "    off =      1.00059, free: T, restricted: F, related: F\n",
      "    lin =            0, free: F, restricted: F, related: F\n",
      "----------------------------------------------------------\n"
     ]
    },
    {
     "data": {
      "image/png": "[encoded data removed]",
      "text/plain": [
       "<Figure size 432x288 with 1 Axes>"
      ]
     },
     "metadata": {
      "needs_background": "light"
     },
     "output_type": "display_data"
    }
   ],
   "source": [
    "# Create a fitting object representing a Gaussian and set guess parameters.\n",
    "gf = fuf2.GaussFit()\n",
    "# See what parameters are available\n",
    "print(\"List of available parameters: \", gf.availableParameters())\n",
    "print()\n",
    "\n",
    "# Set guess values for the parameters\n",
    "gf[\"A\"] = -10.0\n",
    "gf[\"sig\"] = 15.77\n",
    "gf[\"off\"] = 0.96\n",
    "gf[\"mu\"] = 7.5\n",
    "print()\n",
    "\n",
    "# Let us see whether the assignment worked\n",
    "print(\"Parameters and guess values: \")\n",
    "print(\"  A   : \", gf[\"A\"])\n",
    "print(\"  sig : \", gf[\"sig\"])\n",
    "print(\"  off : \", gf[\"off\"])\n",
    "print(\"  mu  : \", gf[\"mu\"])\n",
    "print()\n",
    "\n",
    "# More convenient overview of parameter status\n",
    "gf.parameterSummary()\n",
    "print()\n",
    "\n",
    "# Exporting and assigning parameter values via dictionary\n",
    "ps = gf.parameters()\n",
    "print(\"Parameter name/value dictionary: \", ps)\n",
    "# Assigning values from dictionary (identical values here)\n",
    "gf.assignValues(ps)\n",
    "\n",
    "\n",
    "# Evaluate the model for the starting values\n",
    "startmodel = gf.evaluate(x)\n",
    "\n",
    "# Which parameters shall be varied during the fit?\n",
    "# 'Thaw' those (the order is irrelevant)\n",
    "gf.thaw([\"A\", \"sig\", \"off\", \"mu\"])\n",
    "\n",
    "# Show values and names of free/frozen parameters (i.e., parameters not varied in a fit)\n",
    "print(\"Names and values of FREE parameters: \", gf.freeParameters())\n",
    "print(\"Names and values of FROZEN parameters: \", gf.frozenParameters())\n",
    "print()\n",
    "\n",
    "# Use scipy's fmin to minimize chi square \n",
    "fr = sco.fmin(gf.chisqr, gf.freeParamVals(), args=(x,y,yerr), full_output=True)\n",
    "print()\n",
    "print(\"Fit results: \", fr)\n",
    "# Set the parameter values to best-fit values\n",
    "gf.setFreeParamVals(fr[0])\n",
    "\n",
    "\n",
    "# Use a convenience function to carry out optimization\n",
    "# using scipy's fmin algorithm (parameter values are set to\n",
    "# best-fit result)\n",
    "fr = fuf2.fitfmin(gf, gf.chisqr, x, y, yerr=yerr)\n",
    "\n",
    "# Get a summary of current parameters from the model\n",
    "gf.parameterSummary()\n",
    "\n",
    "# Let us see what we have done...\n",
    "bestfitmodel = gf.evaluate(x)\n",
    "\n",
    "plt.plot(x, y, 'bp')\n",
    "plt.plot(x, startmodel, 'g:', label=\"Model for starting values\")\n",
    "plt.plot(x, bestfitmodel, 'r--', label=\"Best-fit model\")\n",
    "plt.legend()\n",
    "plt.show()"
   ]
  }
 ],
 "metadata": {
  "kernelspec": {
   "display_name": "Python 3",
   "language": "python",
   "name": "python3"
  },
  "language_info": {
   "codemirror_mode": {
    "name": "ipython",
    "version": 3
   },
   "file_extension": ".py",
   "mimetype": "text/x-python",
   "name": "python",
   "nbconvert_exporter": "python",
   "pygments_lexer": "ipython3",
   "version": "3.6.10"
  }
 },
 "nbformat": 4,
 "nbformat_minor": 4
}
