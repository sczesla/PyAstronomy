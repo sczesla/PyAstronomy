{
 "cells": [
  {
   "cell_type": "markdown",
   "metadata": {},
   "source": [
    "Adding two Gaussians\n",
    "======================"
   ]
  },
  {
   "cell_type": "code",
   "execution_count": 1,
   "metadata": {},
   "outputs": [
    {
     "name": "stdout",
     "output_type": "stream",
     "text": [
      "--------------------- Parameter summary ------------------------\n",
      "      A_GF(1) =            0, free: F, restricted: F, related: F\n",
      "     mu_GF(1) =            0, free: F, restricted: F, related: F\n",
      "    sig_GF(1) =            0, free: F, restricted: F, related: F\n",
      "    off_GF(1) =            0, free: F, restricted: F, related: F\n",
      "    lin_GF(1) =            0, free: F, restricted: F, related: F\n",
      "      A_GF(2) =            0, free: F, restricted: F, related: F\n",
      "     mu_GF(2) =            0, free: F, restricted: F, related: F\n",
      "    sig_GF(2) =            0, free: F, restricted: F, related: F\n",
      "    off_GF(2) =            0, free: F, restricted: F, related: F\n",
      "    lin_GF(2) =            0, free: F, restricted: F, related: F\n",
      "----------------------------------------------------------------\n",
      "--------------------- Parameter summary ------------------------\n",
      "      A_GF(1) =      1.02055, free: T, restricted: F, related: F\n",
      "     mu_GF(1) =    0.0202002, free: T, restricted: F, related: F\n",
      "    sig_GF(1) =      1.01276, free: T, restricted: F, related: F\n",
      "    off_GF(1) =            0, free: F, restricted: F, related: F\n",
      "    lin_GF(1) =            0, free: F, restricted: F, related: F\n",
      "      A_GF(2) =      1.97874, free: T, restricted: F, related: F\n",
      "     mu_GF(2) =      3.00805, free: T, restricted: F, related: F\n",
      "    sig_GF(2) =     0.982554, free: T, restricted: F, related: F\n",
      "    off_GF(2) =            0, free: F, restricted: F, related: F\n",
      "    lin_GF(2) =            0, free: F, restricted: F, related: F\n",
      "----------------------------------------------------------------\n"
     ]
    },
    {
     "data": {
      "image/png": "[encoded data removed]",
      "text/plain": [
       "<Figure size 432x288 with 1 Axes>"
      ]
     },
     "metadata": {
      "needs_background": "light"
     },
     "output_type": "display_data"
    }
   ],
   "source": [
    "from __future__ import print_function, division\n",
    "import numpy as np\n",
    "import matplotlib.pylab as plt\n",
    "# ... and now the funcFit package\n",
    "from PyAstronomy import funcFit2 as fuf2\n",
    "import scipy.optimize as sco\n",
    "\n",
    "np.random.seed(1234)\n",
    "\n",
    "# Instantiate Gaussian model objects\n",
    "gf1 = fuf2.GaussFit()\n",
    "gf2 = fuf2.GaussFit()\n",
    "# Sum the models (refers to their 'evaluate' methods)\n",
    "# Any of +-*/ and ** can be used\n",
    "gf = gf1 + gf2\n",
    "\n",
    "gf.parameterSummary()\n",
    "\n",
    "gf[\"A_GF(1)\"] = 1\n",
    "gf[\"A_GF(2)\"] = 2\n",
    "gf[\"mu_GF(1)\"] = 0.0\n",
    "gf[\"mu_GF(2)\"] = 3.0\n",
    "gf[\"sig_GF(1)\"] = 1.0\n",
    "gf[\"sig_GF(2)\"] = 1.0\n",
    "\n",
    "# Evaluate model and add noise\n",
    "x = np.linspace(-4., 6., 200)\n",
    "y = gf.evaluate(x) + np.random.normal(0, 0.02, len(x))\n",
    "\n",
    "# Re-fit model\n",
    "# Use filename-like pattern matching to thaw parameters\n",
    "gf.thaw([\"A_*\", \"sig_*\", \"mu_*\"])\n",
    "fuf2.fitfmin_l_bfgs_b(gf, gf.chisqr, x, y, yerr=0.02)\n",
    "\n",
    "gf.parameterSummary()\n",
    "\n",
    "plt.errorbar(x, y, yerr=0.02, fmt=\"b+\", alpha=0.5)\n",
    "plt.plot(x, gf.evaluate(x), 'r--', lw=2)\n",
    "plt.show()"
   ]
  }
 ],
 "metadata": {
  "kernelspec": {
   "display_name": "Python 3",
   "language": "python",
   "name": "python3"
  },
  "language_info": {
   "codemirror_mode": {
    "name": "ipython",
    "version": 3
   },
   "file_extension": ".py",
   "mimetype": "text/x-python",
   "name": "python",
   "nbconvert_exporter": "python",
   "pygments_lexer": "ipython3",
   "version": "3.6.10"
  }
 },
 "nbformat": 4,
 "nbformat_minor": 4
}
