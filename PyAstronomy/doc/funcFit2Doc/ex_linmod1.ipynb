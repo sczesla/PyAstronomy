{
 "cells": [
  {
   "cell_type": "markdown",
   "metadata": {},
   "source": [
    "Custom linear model\n",
    "=================="
   ]
  },
  {
   "cell_type": "code",
   "execution_count": 1,
   "metadata": {},
   "outputs": [
    {
     "name": "stdout",
     "output_type": "stream",
     "text": [
      "Input values for mock data:  OrderedDict([('const', -0.5), ('slope', 1.1)])\n",
      "\n",
      "Optimization terminated successfully.\n",
      "         Current function value: 18.343126\n",
      "         Iterations: 34\n",
      "         Function evaluations: 67\n",
      "-------------------- Parameter summary ---------------------\n",
      "    const =    -0.314227, free: T, restricted: F, related: F\n",
      "    slope =      1.06682, free: T, restricted: F, related: F\n",
      "------------------------------------------------------------\n"
     ]
    },
    {
     "data": {
      "image/png": "[encoded data removed]",
      "text/plain": [
       "<Figure size 432x288 with 1 Axes>"
      ]
     },
     "metadata": {
      "needs_background": "light"
     },
     "output_type": "display_data"
    }
   ],
   "source": [
    "from __future__ import print_function, division\n",
    "import numpy as np\n",
    "import matplotlib.pylab as plt\n",
    "from PyAstronomy import funcFit2 as fuf2\n",
    "import scipy.optimize as sco\n",
    "\n",
    "np.random.seed(1234)\n",
    "\n",
    "class LinMod(fuf2.MBOEv):\n",
    "    \"\"\" Linear model \"\"\"\n",
    "\n",
    "    def __init__(self):\n",
    "        # 'pars' specifies parameter names in the model\n",
    "        fuf2.MBOEv.__init__(self, pars=[\"const\", \"slope\"], rootName=\"LinMod\")\n",
    "\n",
    "    def evaluate(self, x, *args):\n",
    "        \"\"\"\n",
    "        Evaluate model at 'x' here and return y = const + x*slope\n",
    "        \n",
    "        args receives the remianing arguments specified in the call to fmin but\n",
    "        not needed here\n",
    "        \"\"\"\n",
    "        return self[\"const\"] + x * self[\"slope\"]\n",
    "\n",
    "\n",
    "# Instantiate model\n",
    "lm = LinMod()\n",
    "\n",
    "lm[\"slope\"] = 1.1\n",
    "lm[\"const\"] = -0.5\n",
    "\n",
    "# Get some 'data' and add Gaussian noise with STD 10\n",
    "x = np.arange(15.)\n",
    "y = lm.evaluate(x) + np.random.normal(0,1,len(x))\n",
    "yerr = np.ones_like(x)\n",
    "\n",
    "print(\"Input values for mock data: \", lm.parameters())\n",
    "print()\n",
    "\n",
    "lm.thaw([\"slope\", \"const\"])\n",
    "\n",
    "# Because ln inherited from MBOEv, it has a default chi-square objective function\n",
    "fr = sco.fmin(lm.chisqr, x0=lm.freeParamVals(), args=(x,y,yerr))\n",
    "lm.setFreeParamVals(fr)\n",
    "\n",
    "lm.parameterSummary()\n",
    "\n",
    "plt.errorbar(x, y, yerr=yerr, fmt='b+')\n",
    "plt.plot(x, lm.evaluate(x), 'r--')\n",
    "plt.show()"
   ]
  }
 ],
 "metadata": {
  "kernelspec": {
   "display_name": "Python 3",
   "language": "python",
   "name": "python3"
  },
  "language_info": {
   "codemirror_mode": {
    "name": "ipython",
    "version": 3
   },
   "file_extension": ".py",
   "mimetype": "text/x-python",
   "name": "python",
   "nbconvert_exporter": "python",
   "pygments_lexer": "ipython3",
   "version": "3.6.10"
  }
 },
 "nbformat": 4,
 "nbformat_minor": 4
}
