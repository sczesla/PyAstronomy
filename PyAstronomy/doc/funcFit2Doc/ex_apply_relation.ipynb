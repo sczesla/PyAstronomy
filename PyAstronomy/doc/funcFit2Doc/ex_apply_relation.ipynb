{
 "cells": [
  {
   "cell_type": "markdown",
   "metadata": {},
   "source": [
    "Applying a relation\n",
    "====================="
   ]
  },
  {
   "cell_type": "code",
   "execution_count": 1,
   "metadata": {},
   "outputs": [
    {
     "name": "stdout",
     "output_type": "stream",
     "text": [
      "Optimization terminated successfully.\n",
      "         Current function value: 0.006861\n",
      "         Iterations: 167\n",
      "         Function evaluations: 291\n",
      "Fit result:  [-0.68455253 10.11295912 20.15560727  1.00015156]\n",
      "------------------- Parameter summary --------------------\n",
      "      A =      1.01541, free: T, restricted: F, related: T\n",
      "     mu =       10.113, free: T, restricted: F, related: F\n",
      "    sig =      20.1556, free: T, restricted: F, related: F\n",
      "    off =      1.00015, free: T, restricted: F, related: F\n",
      "    lin =            0, free: F, restricted: F, related: F\n",
      "----------------------------------------------------------\n"
     ]
    },
    {
     "data": {
      "image/png": "[encoded data removed]",
      "text/plain": [
       "<Figure size 432x288 with 1 Axes>"
      ]
     },
     "metadata": {
      "needs_background": "light"
     },
     "output_type": "display_data"
    }
   ],
   "source": [
    "from __future__ import print_function, division\n",
    "import numpy as np\n",
    "import matplotlib.pylab as plt\n",
    "from PyAstronomy import funcFit2 as fuf2\n",
    "import scipy.optimize as sco\n",
    "\n",
    "np.random.seed(1234)\n",
    "\n",
    "# Creating a Gaussian with some noise\n",
    "# Choose some parameters...\n",
    "gPar = {\"A\":1.0, \"sig\":10.0, \"mu\":10.0, \"off\":1.0, \"lin\":0.0}\n",
    "# Calculate profile\n",
    "x = np.arange(100) - 50.0\n",
    "y = gPar[\"off\"] + gPar[\"A\"] / np.sqrt(2*np.pi*gPar[\"sig\"]**2) \\\n",
    "    * np.exp(-(x-gPar[\"mu\"])**2/(2*gPar[\"sig\"]**2))\n",
    "# Add some noise...\n",
    "y += np.random.normal(0.0, 0.002, x.size)\n",
    "# ...and save the error bars\n",
    "yerr = np.ones_like(x)*0.002\n",
    "\n",
    "# Create a model object\n",
    "gf = fuf2.GaussFit()\n",
    "\n",
    "# Set guess values for the parameters\n",
    "gf.assignValues({\"A\":3, \"sig\":3.77, \"off\":0.96, \"mu\":9.5})\n",
    "\n",
    "# 'Thaw' those (the order is irrelevant)\n",
    "gf.thaw([\"mu\", \"sig\", \"off\", \"A\"])\n",
    "\n",
    "def relat(sig, off):\n",
    "    \"\"\" Combine values of sig and off \"\"\"\n",
    "    return 0.1*sig - off\n",
    "\n",
    "# 'A' is a function of 'sig' and 'off' (A=f(sig,off)).\n",
    "# First parameter is the dependent variable, second is a list of\n",
    "# the independent variables, and the third one is theactual\n",
    "# functional relation.\n",
    "gf.relate(\"A\", [\"sig\", \"off\"], func=relat)\n",
    "\n",
    "fr = sco.fmin(gf.chisqr, gf.freeParamVals(), args=(x,y))\n",
    "print(\"Fit result: \", fr)\n",
    "# Set the parameter values to best-fit\n",
    "gf.setFreeParamVals(fr)\n",
    "\n",
    "gf.parameterSummary()\n",
    "\n",
    "# Let us see what we have done...\n",
    "plt.plot(x, y, 'bp')\n",
    "plt.plot(x, gf.evaluate(x), 'r--')\n",
    "plt.show()"
   ]
  }
 ],
 "metadata": {
  "kernelspec": {
   "display_name": "Python 3",
   "language": "python",
   "name": "python3"
  },
  "language_info": {
   "codemirror_mode": {
    "name": "ipython",
    "version": 3
   },
   "file_extension": ".py",
   "mimetype": "text/x-python",
   "name": "python",
   "nbconvert_exporter": "python",
   "pygments_lexer": "ipython3",
   "version": "3.6.10"
  }
 },
 "nbformat": 4,
 "nbformat_minor": 4
}
